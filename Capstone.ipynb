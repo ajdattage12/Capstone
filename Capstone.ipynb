{
 "cells": [
  {
   "cell_type": "markdown",
   "id": "630c1b9d",
   "metadata": {},
   "source": [
    " "
   ]
  },
  {
   "cell_type": "markdown",
   "id": "59ba470f",
   "metadata": {},
   "source": [
    "# Covid-19 Data Analysis, Visual Representation & Statistical Research\n",
    "__Presented By Ariell Dattage__"
   ]
  },
  {
   "cell_type": "code",
   "execution_count": 1,
   "id": "411746cb",
   "metadata": {},
   "outputs": [],
   "source": [
    "import pandas as pd\n",
    "import matplotlib.pyplot as plt\n",
    "import plotly.graph_objects as go\n",
    "import scipy\n",
    "from scipy.stats import pearsonr, spearmanr\n",
    "import seaborn as sns\n",
    "sns.set(color_codes=True)\n",
    "%matplotlib inline"
   ]
  },
  {
   "cell_type": "markdown",
   "id": "01d2ba2d",
   "metadata": {},
   "source": [
    "### Dataset 1 Title: Coronavirus (COVID-19) Deaths\n",
    "\n",
    "Data, statistical information and research retrieved from: https://ourworldindata.org/covid-deaths"
   ]
  },
  {
   "cell_type": "code",
   "execution_count": 2,
   "id": "0cfb05e0",
   "metadata": {
    "scrolled": true
   },
   "outputs": [],
   "source": [
    "file = pd.read_csv('covid-data.csv')"
   ]
  },
  {
   "cell_type": "markdown",
   "id": "b5a21d7b",
   "metadata": {},
   "source": [
    "### Dataset 2 Title: COVID-19 Activity\n",
    "\n",
    "Data, statistical information and research retrieved from: https://data.world/covid-19-data-resource-hub/covid-19-case-counts/workspace/file?filename=COVID-19+Activity.csv"
   ]
  },
  {
   "cell_type": "code",
   "execution_count": 34,
   "id": "4b29534b",
   "metadata": {},
   "outputs": [],
   "source": [
    "file2 = pd.read_csv('covid-data2.csv')"
   ]
  },
  {
   "cell_type": "markdown",
   "id": "72d10ecb",
   "metadata": {},
   "source": [
    "### Dataset 1 Overview: Coronavirus (COVID-19) Deaths"
   ]
  },
  {
   "cell_type": "code",
   "execution_count": 4,
   "id": "5a6faf0d",
   "metadata": {},
   "outputs": [
    {
     "data": {
      "text/plain": [
       "(152944, 67)"
      ]
     },
     "execution_count": 4,
     "metadata": {},
     "output_type": "execute_result"
    }
   ],
   "source": [
    "file.shape"
   ]
  },
  {
   "cell_type": "code",
   "execution_count": 5,
   "id": "505ac044",
   "metadata": {},
   "outputs": [
    {
     "data": {
      "text/html": [
       "<div>\n",
       "<style scoped>\n",
       "    .dataframe tbody tr th:only-of-type {\n",
       "        vertical-align: middle;\n",
       "    }\n",
       "\n",
       "    .dataframe tbody tr th {\n",
       "        vertical-align: top;\n",
       "    }\n",
       "\n",
       "    .dataframe thead th {\n",
       "        text-align: right;\n",
       "    }\n",
       "</style>\n",
       "<table border=\"1\" class=\"dataframe\">\n",
       "  <thead>\n",
       "    <tr style=\"text-align: right;\">\n",
       "      <th></th>\n",
       "      <th>iso_code</th>\n",
       "      <th>continent</th>\n",
       "      <th>location</th>\n",
       "      <th>date</th>\n",
       "      <th>total_cases</th>\n",
       "      <th>new_cases</th>\n",
       "      <th>new_cases_smoothed</th>\n",
       "      <th>total_deaths</th>\n",
       "      <th>new_deaths</th>\n",
       "      <th>new_deaths_smoothed</th>\n",
       "      <th>...</th>\n",
       "      <th>female_smokers</th>\n",
       "      <th>male_smokers</th>\n",
       "      <th>handwashing_facilities</th>\n",
       "      <th>hospital_beds_per_thousand</th>\n",
       "      <th>life_expectancy</th>\n",
       "      <th>human_development_index</th>\n",
       "      <th>excess_mortality_cumulative_absolute</th>\n",
       "      <th>excess_mortality_cumulative</th>\n",
       "      <th>excess_mortality</th>\n",
       "      <th>excess_mortality_cumulative_per_million</th>\n",
       "    </tr>\n",
       "  </thead>\n",
       "  <tbody>\n",
       "    <tr>\n",
       "      <th>0</th>\n",
       "      <td>AFG</td>\n",
       "      <td>Asia</td>\n",
       "      <td>Afghanistan</td>\n",
       "      <td>2020-02-24</td>\n",
       "      <td>5.0</td>\n",
       "      <td>5.0</td>\n",
       "      <td>NaN</td>\n",
       "      <td>NaN</td>\n",
       "      <td>NaN</td>\n",
       "      <td>NaN</td>\n",
       "      <td>...</td>\n",
       "      <td>NaN</td>\n",
       "      <td>NaN</td>\n",
       "      <td>37.746</td>\n",
       "      <td>0.5</td>\n",
       "      <td>64.83</td>\n",
       "      <td>0.511</td>\n",
       "      <td>NaN</td>\n",
       "      <td>NaN</td>\n",
       "      <td>NaN</td>\n",
       "      <td>NaN</td>\n",
       "    </tr>\n",
       "    <tr>\n",
       "      <th>1</th>\n",
       "      <td>AFG</td>\n",
       "      <td>Asia</td>\n",
       "      <td>Afghanistan</td>\n",
       "      <td>2020-02-25</td>\n",
       "      <td>5.0</td>\n",
       "      <td>0.0</td>\n",
       "      <td>NaN</td>\n",
       "      <td>NaN</td>\n",
       "      <td>NaN</td>\n",
       "      <td>NaN</td>\n",
       "      <td>...</td>\n",
       "      <td>NaN</td>\n",
       "      <td>NaN</td>\n",
       "      <td>37.746</td>\n",
       "      <td>0.5</td>\n",
       "      <td>64.83</td>\n",
       "      <td>0.511</td>\n",
       "      <td>NaN</td>\n",
       "      <td>NaN</td>\n",
       "      <td>NaN</td>\n",
       "      <td>NaN</td>\n",
       "    </tr>\n",
       "    <tr>\n",
       "      <th>2</th>\n",
       "      <td>AFG</td>\n",
       "      <td>Asia</td>\n",
       "      <td>Afghanistan</td>\n",
       "      <td>2020-02-26</td>\n",
       "      <td>5.0</td>\n",
       "      <td>0.0</td>\n",
       "      <td>NaN</td>\n",
       "      <td>NaN</td>\n",
       "      <td>NaN</td>\n",
       "      <td>NaN</td>\n",
       "      <td>...</td>\n",
       "      <td>NaN</td>\n",
       "      <td>NaN</td>\n",
       "      <td>37.746</td>\n",
       "      <td>0.5</td>\n",
       "      <td>64.83</td>\n",
       "      <td>0.511</td>\n",
       "      <td>NaN</td>\n",
       "      <td>NaN</td>\n",
       "      <td>NaN</td>\n",
       "      <td>NaN</td>\n",
       "    </tr>\n",
       "    <tr>\n",
       "      <th>3</th>\n",
       "      <td>AFG</td>\n",
       "      <td>Asia</td>\n",
       "      <td>Afghanistan</td>\n",
       "      <td>2020-02-27</td>\n",
       "      <td>5.0</td>\n",
       "      <td>0.0</td>\n",
       "      <td>NaN</td>\n",
       "      <td>NaN</td>\n",
       "      <td>NaN</td>\n",
       "      <td>NaN</td>\n",
       "      <td>...</td>\n",
       "      <td>NaN</td>\n",
       "      <td>NaN</td>\n",
       "      <td>37.746</td>\n",
       "      <td>0.5</td>\n",
       "      <td>64.83</td>\n",
       "      <td>0.511</td>\n",
       "      <td>NaN</td>\n",
       "      <td>NaN</td>\n",
       "      <td>NaN</td>\n",
       "      <td>NaN</td>\n",
       "    </tr>\n",
       "    <tr>\n",
       "      <th>4</th>\n",
       "      <td>AFG</td>\n",
       "      <td>Asia</td>\n",
       "      <td>Afghanistan</td>\n",
       "      <td>2020-02-28</td>\n",
       "      <td>5.0</td>\n",
       "      <td>0.0</td>\n",
       "      <td>NaN</td>\n",
       "      <td>NaN</td>\n",
       "      <td>NaN</td>\n",
       "      <td>NaN</td>\n",
       "      <td>...</td>\n",
       "      <td>NaN</td>\n",
       "      <td>NaN</td>\n",
       "      <td>37.746</td>\n",
       "      <td>0.5</td>\n",
       "      <td>64.83</td>\n",
       "      <td>0.511</td>\n",
       "      <td>NaN</td>\n",
       "      <td>NaN</td>\n",
       "      <td>NaN</td>\n",
       "      <td>NaN</td>\n",
       "    </tr>\n",
       "  </tbody>\n",
       "</table>\n",
       "<p>5 rows × 67 columns</p>\n",
       "</div>"
      ],
      "text/plain": [
       "  iso_code continent     location        date  total_cases  new_cases  \\\n",
       "0      AFG      Asia  Afghanistan  2020-02-24          5.0        5.0   \n",
       "1      AFG      Asia  Afghanistan  2020-02-25          5.0        0.0   \n",
       "2      AFG      Asia  Afghanistan  2020-02-26          5.0        0.0   \n",
       "3      AFG      Asia  Afghanistan  2020-02-27          5.0        0.0   \n",
       "4      AFG      Asia  Afghanistan  2020-02-28          5.0        0.0   \n",
       "\n",
       "   new_cases_smoothed  total_deaths  new_deaths  new_deaths_smoothed  ...  \\\n",
       "0                 NaN           NaN         NaN                  NaN  ...   \n",
       "1                 NaN           NaN         NaN                  NaN  ...   \n",
       "2                 NaN           NaN         NaN                  NaN  ...   \n",
       "3                 NaN           NaN         NaN                  NaN  ...   \n",
       "4                 NaN           NaN         NaN                  NaN  ...   \n",
       "\n",
       "   female_smokers  male_smokers  handwashing_facilities  \\\n",
       "0             NaN           NaN                  37.746   \n",
       "1             NaN           NaN                  37.746   \n",
       "2             NaN           NaN                  37.746   \n",
       "3             NaN           NaN                  37.746   \n",
       "4             NaN           NaN                  37.746   \n",
       "\n",
       "   hospital_beds_per_thousand  life_expectancy  human_development_index  \\\n",
       "0                         0.5            64.83                    0.511   \n",
       "1                         0.5            64.83                    0.511   \n",
       "2                         0.5            64.83                    0.511   \n",
       "3                         0.5            64.83                    0.511   \n",
       "4                         0.5            64.83                    0.511   \n",
       "\n",
       "   excess_mortality_cumulative_absolute  excess_mortality_cumulative  \\\n",
       "0                                   NaN                          NaN   \n",
       "1                                   NaN                          NaN   \n",
       "2                                   NaN                          NaN   \n",
       "3                                   NaN                          NaN   \n",
       "4                                   NaN                          NaN   \n",
       "\n",
       "   excess_mortality  excess_mortality_cumulative_per_million  \n",
       "0               NaN                                      NaN  \n",
       "1               NaN                                      NaN  \n",
       "2               NaN                                      NaN  \n",
       "3               NaN                                      NaN  \n",
       "4               NaN                                      NaN  \n",
       "\n",
       "[5 rows x 67 columns]"
      ]
     },
     "execution_count": 5,
     "metadata": {},
     "output_type": "execute_result"
    }
   ],
   "source": [
    "file.head()"
   ]
  },
  {
   "cell_type": "code",
   "execution_count": 6,
   "id": "48e297d9",
   "metadata": {},
   "outputs": [
    {
     "data": {
      "text/plain": [
       "Index(['iso_code', 'continent', 'location', 'date', 'total_cases', 'new_cases',\n",
       "       'new_cases_smoothed', 'total_deaths', 'new_deaths',\n",
       "       'new_deaths_smoothed', 'total_cases_per_million',\n",
       "       'new_cases_per_million', 'new_cases_smoothed_per_million',\n",
       "       'total_deaths_per_million', 'new_deaths_per_million',\n",
       "       'new_deaths_smoothed_per_million', 'reproduction_rate', 'icu_patients',\n",
       "       'icu_patients_per_million', 'hosp_patients',\n",
       "       'hosp_patients_per_million', 'weekly_icu_admissions',\n",
       "       'weekly_icu_admissions_per_million', 'weekly_hosp_admissions',\n",
       "       'weekly_hosp_admissions_per_million', 'new_tests', 'total_tests',\n",
       "       'total_tests_per_thousand', 'new_tests_per_thousand',\n",
       "       'new_tests_smoothed', 'new_tests_smoothed_per_thousand',\n",
       "       'positive_rate', 'tests_per_case', 'tests_units', 'total_vaccinations',\n",
       "       'people_vaccinated', 'people_fully_vaccinated', 'total_boosters',\n",
       "       'new_vaccinations', 'new_vaccinations_smoothed',\n",
       "       'total_vaccinations_per_hundred', 'people_vaccinated_per_hundred',\n",
       "       'people_fully_vaccinated_per_hundred', 'total_boosters_per_hundred',\n",
       "       'new_vaccinations_smoothed_per_million',\n",
       "       'new_people_vaccinated_smoothed',\n",
       "       'new_people_vaccinated_smoothed_per_hundred', 'stringency_index',\n",
       "       'population', 'population_density', 'median_age', 'aged_65_older',\n",
       "       'aged_70_older', 'gdp_per_capita', 'extreme_poverty',\n",
       "       'cardiovasc_death_rate', 'diabetes_prevalence', 'female_smokers',\n",
       "       'male_smokers', 'handwashing_facilities', 'hospital_beds_per_thousand',\n",
       "       'life_expectancy', 'human_development_index',\n",
       "       'excess_mortality_cumulative_absolute', 'excess_mortality_cumulative',\n",
       "       'excess_mortality', 'excess_mortality_cumulative_per_million'],\n",
       "      dtype='object')"
      ]
     },
     "execution_count": 6,
     "metadata": {},
     "output_type": "execute_result"
    }
   ],
   "source": [
    "file.columns"
   ]
  },
  {
   "cell_type": "code",
   "execution_count": 7,
   "id": "4a42d08f",
   "metadata": {},
   "outputs": [
    {
     "name": "stdout",
     "output_type": "stream",
     "text": [
      "<class 'pandas.core.frame.DataFrame'>\n",
      "RangeIndex: 152944 entries, 0 to 152943\n",
      "Data columns (total 67 columns):\n",
      " #   Column                                      Non-Null Count   Dtype  \n",
      "---  ------                                      --------------   -----  \n",
      " 0   iso_code                                    152944 non-null  object \n",
      " 1   continent                                   143729 non-null  object \n",
      " 2   location                                    152944 non-null  object \n",
      " 3   date                                        152944 non-null  object \n",
      " 4   total_cases                                 150294 non-null  float64\n",
      " 5   new_cases                                   150239 non-null  float64\n",
      " 6   new_cases_smoothed                          149088 non-null  float64\n",
      " 7   total_deaths                                133064 non-null  float64\n",
      " 8   new_deaths                                  133236 non-null  float64\n",
      " 9   new_deaths_smoothed                         133104 non-null  float64\n",
      " 10  total_cases_per_million                     149593 non-null  float64\n",
      " 11  new_cases_per_million                       149538 non-null  float64\n",
      " 12  new_cases_smoothed_per_million              148392 non-null  float64\n",
      " 13  total_deaths_per_million                    132376 non-null  float64\n",
      " 14  new_deaths_per_million                      132548 non-null  float64\n",
      " 15  new_deaths_smoothed_per_million             132416 non-null  float64\n",
      " 16  reproduction_rate                           114970 non-null  float64\n",
      " 17  icu_patients                                19314 non-null   float64\n",
      " 18  icu_patients_per_million                    19314 non-null   float64\n",
      " 19  hosp_patients                               21292 non-null   float64\n",
      " 20  hosp_patients_per_million                   21292 non-null   float64\n",
      " 21  weekly_icu_admissions                       4326 non-null    float64\n",
      " 22  weekly_icu_admissions_per_million           4326 non-null    float64\n",
      " 23  weekly_hosp_admissions                      8682 non-null    float64\n",
      " 24  weekly_hosp_admissions_per_million          8682 non-null    float64\n",
      " 25  new_tests                                   60726 non-null   float64\n",
      " 26  total_tests                                 62131 non-null   float64\n",
      " 27  total_tests_per_thousand                    62131 non-null   float64\n",
      " 28  new_tests_per_thousand                      60726 non-null   float64\n",
      " 29  new_tests_smoothed                          74221 non-null   float64\n",
      " 30  new_tests_smoothed_per_thousand             73520 non-null   float64\n",
      " 31  positive_rate                               69318 non-null   float64\n",
      " 32  tests_per_case                              68655 non-null   float64\n",
      " 33  tests_units                                 75691 non-null   object \n",
      " 34  total_vaccinations                          39357 non-null   float64\n",
      " 35  people_vaccinated                           37693 non-null   float64\n",
      " 36  people_fully_vaccinated                     34818 non-null   float64\n",
      " 37  total_boosters                              12362 non-null   float64\n",
      " 38  new_vaccinations                            32613 non-null   float64\n",
      " 39  new_vaccinations_smoothed                   71592 non-null   float64\n",
      " 40  total_vaccinations_per_hundred              39357 non-null   float64\n",
      " 41  people_vaccinated_per_hundred               37693 non-null   float64\n",
      " 42  people_fully_vaccinated_per_hundred         34818 non-null   float64\n",
      " 43  total_boosters_per_hundred                  12362 non-null   float64\n",
      " 44  new_vaccinations_smoothed_per_million       71592 non-null   float64\n",
      " 45  new_people_vaccinated_smoothed              70362 non-null   float64\n",
      " 46  new_people_vaccinated_smoothed_per_hundred  70362 non-null   float64\n",
      " 47  stringency_index                            119502 non-null  float64\n",
      " 48  population                                  151926 non-null  float64\n",
      " 49  population_density                          136139 non-null  float64\n",
      " 50  median_age                                  127044 non-null  float64\n",
      " 51  aged_65_older                               125664 non-null  float64\n",
      " 52  aged_70_older                               126362 non-null  float64\n",
      " 53  gdp_per_capita                              127456 non-null  float64\n",
      " 54  extreme_poverty                             84133 non-null   float64\n",
      " 55  cardiovasc_death_rate                       126048 non-null  float64\n",
      " 56  diabetes_prevalence                         132509 non-null  float64\n",
      " 57  female_smokers                              97631 non-null   float64\n",
      " 58  male_smokers                                96225 non-null   float64\n",
      " 59  handwashing_facilities                      63127 non-null   float64\n",
      " 60  hospital_beds_per_thousand                  113877 non-null  float64\n",
      " 61  life_expectancy                             142738 non-null  float64\n",
      " 62  human_development_index                     125523 non-null  float64\n",
      " 63  excess_mortality_cumulative_absolute        5234 non-null    float64\n",
      " 64  excess_mortality_cumulative                 5234 non-null    float64\n",
      " 65  excess_mortality                            5234 non-null    float64\n",
      " 66  excess_mortality_cumulative_per_million     5234 non-null    float64\n",
      "dtypes: float64(62), object(5)\n",
      "memory usage: 78.2+ MB\n"
     ]
    }
   ],
   "source": [
    "file.info()"
   ]
  },
  {
   "cell_type": "code",
   "execution_count": 8,
   "id": "aef3ca38",
   "metadata": {},
   "outputs": [
    {
     "data": {
      "text/html": [
       "<div>\n",
       "<style scoped>\n",
       "    .dataframe tbody tr th:only-of-type {\n",
       "        vertical-align: middle;\n",
       "    }\n",
       "\n",
       "    .dataframe tbody tr th {\n",
       "        vertical-align: top;\n",
       "    }\n",
       "\n",
       "    .dataframe thead th {\n",
       "        text-align: right;\n",
       "    }\n",
       "</style>\n",
       "<table border=\"1\" class=\"dataframe\">\n",
       "  <thead>\n",
       "    <tr style=\"text-align: right;\">\n",
       "      <th></th>\n",
       "      <th>total_cases</th>\n",
       "      <th>new_cases</th>\n",
       "      <th>new_cases_smoothed</th>\n",
       "      <th>total_deaths</th>\n",
       "      <th>new_deaths</th>\n",
       "      <th>new_deaths_smoothed</th>\n",
       "      <th>total_cases_per_million</th>\n",
       "      <th>new_cases_per_million</th>\n",
       "      <th>new_cases_smoothed_per_million</th>\n",
       "      <th>total_deaths_per_million</th>\n",
       "      <th>...</th>\n",
       "      <th>female_smokers</th>\n",
       "      <th>male_smokers</th>\n",
       "      <th>handwashing_facilities</th>\n",
       "      <th>hospital_beds_per_thousand</th>\n",
       "      <th>life_expectancy</th>\n",
       "      <th>human_development_index</th>\n",
       "      <th>excess_mortality_cumulative_absolute</th>\n",
       "      <th>excess_mortality_cumulative</th>\n",
       "      <th>excess_mortality</th>\n",
       "      <th>excess_mortality_cumulative_per_million</th>\n",
       "    </tr>\n",
       "  </thead>\n",
       "  <tbody>\n",
       "    <tr>\n",
       "      <th>count</th>\n",
       "      <td>1.502940e+05</td>\n",
       "      <td>1.502390e+05</td>\n",
       "      <td>1.490880e+05</td>\n",
       "      <td>1.330640e+05</td>\n",
       "      <td>133236.000000</td>\n",
       "      <td>133104.000000</td>\n",
       "      <td>149593.000000</td>\n",
       "      <td>149538.000000</td>\n",
       "      <td>148392.000000</td>\n",
       "      <td>132376.000000</td>\n",
       "      <td>...</td>\n",
       "      <td>97631.000000</td>\n",
       "      <td>96225.000000</td>\n",
       "      <td>63127.000000</td>\n",
       "      <td>113877.000000</td>\n",
       "      <td>142738.000000</td>\n",
       "      <td>125523.000000</td>\n",
       "      <td>5.234000e+03</td>\n",
       "      <td>5234.000000</td>\n",
       "      <td>5234.000000</td>\n",
       "      <td>5234.000000</td>\n",
       "    </tr>\n",
       "    <tr>\n",
       "      <th>mean</th>\n",
       "      <td>2.135135e+06</td>\n",
       "      <td>8.467375e+03</td>\n",
       "      <td>8.309280e+03</td>\n",
       "      <td>5.277387e+04</td>\n",
       "      <td>170.619067</td>\n",
       "      <td>170.100488</td>\n",
       "      <td>23411.883300</td>\n",
       "      <td>107.040595</td>\n",
       "      <td>103.589947</td>\n",
       "      <td>456.920736</td>\n",
       "      <td>...</td>\n",
       "      <td>10.584645</td>\n",
       "      <td>32.758263</td>\n",
       "      <td>50.814634</td>\n",
       "      <td>3.026685</td>\n",
       "      <td>73.596164</td>\n",
       "      <td>0.725868</td>\n",
       "      <td>3.479999e+04</td>\n",
       "      <td>9.011418</td>\n",
       "      <td>16.175762</td>\n",
       "      <td>857.853331</td>\n",
       "    </tr>\n",
       "    <tr>\n",
       "      <th>std</th>\n",
       "      <td>1.265274e+07</td>\n",
       "      <td>5.098362e+04</td>\n",
       "      <td>4.706157e+04</td>\n",
       "      <td>2.775011e+05</td>\n",
       "      <td>831.478667</td>\n",
       "      <td>812.194863</td>\n",
       "      <td>38180.684985</td>\n",
       "      <td>372.752514</td>\n",
       "      <td>249.590269</td>\n",
       "      <td>721.942654</td>\n",
       "      <td>...</td>\n",
       "      <td>10.498802</td>\n",
       "      <td>13.521998</td>\n",
       "      <td>31.813386</td>\n",
       "      <td>2.452814</td>\n",
       "      <td>7.489772</td>\n",
       "      <td>0.149988</td>\n",
       "      <td>9.949991e+04</td>\n",
       "      <td>16.669961</td>\n",
       "      <td>31.091730</td>\n",
       "      <td>1283.239325</td>\n",
       "    </tr>\n",
       "    <tr>\n",
       "      <th>min</th>\n",
       "      <td>1.000000e+00</td>\n",
       "      <td>-7.434700e+04</td>\n",
       "      <td>-6.223000e+03</td>\n",
       "      <td>1.000000e+00</td>\n",
       "      <td>-1918.000000</td>\n",
       "      <td>-232.143000</td>\n",
       "      <td>0.001000</td>\n",
       "      <td>-3125.829000</td>\n",
       "      <td>-272.971000</td>\n",
       "      <td>0.000000</td>\n",
       "      <td>...</td>\n",
       "      <td>0.100000</td>\n",
       "      <td>7.700000</td>\n",
       "      <td>1.188000</td>\n",
       "      <td>0.100000</td>\n",
       "      <td>53.280000</td>\n",
       "      <td>0.394000</td>\n",
       "      <td>-3.195940e+04</td>\n",
       "      <td>-28.450000</td>\n",
       "      <td>-95.920000</td>\n",
       "      <td>-1745.051271</td>\n",
       "    </tr>\n",
       "    <tr>\n",
       "      <th>25%</th>\n",
       "      <td>1.574000e+03</td>\n",
       "      <td>1.000000e+00</td>\n",
       "      <td>5.857000e+00</td>\n",
       "      <td>6.800000e+01</td>\n",
       "      <td>0.000000</td>\n",
       "      <td>0.143000</td>\n",
       "      <td>512.697000</td>\n",
       "      <td>0.022000</td>\n",
       "      <td>1.444000</td>\n",
       "      <td>15.829000</td>\n",
       "      <td>...</td>\n",
       "      <td>1.900000</td>\n",
       "      <td>21.600000</td>\n",
       "      <td>19.351000</td>\n",
       "      <td>1.300000</td>\n",
       "      <td>69.500000</td>\n",
       "      <td>0.602000</td>\n",
       "      <td>-9.752500e+01</td>\n",
       "      <td>-0.870000</td>\n",
       "      <td>-0.520000</td>\n",
       "      <td>-37.856745</td>\n",
       "    </tr>\n",
       "    <tr>\n",
       "      <th>50%</th>\n",
       "      <td>2.067100e+04</td>\n",
       "      <td>7.000000e+01</td>\n",
       "      <td>9.171400e+01</td>\n",
       "      <td>6.750000e+02</td>\n",
       "      <td>2.000000</td>\n",
       "      <td>2.286000</td>\n",
       "      <td>4015.258000</td>\n",
       "      <td>10.052000</td>\n",
       "      <td>15.887000</td>\n",
       "      <td>105.723000</td>\n",
       "      <td>...</td>\n",
       "      <td>6.300000</td>\n",
       "      <td>31.400000</td>\n",
       "      <td>49.839000</td>\n",
       "      <td>2.400000</td>\n",
       "      <td>75.050000</td>\n",
       "      <td>0.743000</td>\n",
       "      <td>2.580050e+03</td>\n",
       "      <td>5.505000</td>\n",
       "      <td>7.205000</td>\n",
       "      <td>401.789828</td>\n",
       "    </tr>\n",
       "    <tr>\n",
       "      <th>75%</th>\n",
       "      <td>2.560555e+05</td>\n",
       "      <td>9.230000e+02</td>\n",
       "      <td>9.741430e+02</td>\n",
       "      <td>6.457000e+03</td>\n",
       "      <td>19.000000</td>\n",
       "      <td>20.286000</td>\n",
       "      <td>30648.408000</td>\n",
       "      <td>86.622750</td>\n",
       "      <td>99.157000</td>\n",
       "      <td>622.097750</td>\n",
       "      <td>...</td>\n",
       "      <td>19.100000</td>\n",
       "      <td>41.300000</td>\n",
       "      <td>83.241000</td>\n",
       "      <td>4.000000</td>\n",
       "      <td>78.930000</td>\n",
       "      <td>0.845000</td>\n",
       "      <td>2.147995e+04</td>\n",
       "      <td>13.887500</td>\n",
       "      <td>22.687500</td>\n",
       "      <td>1456.137413</td>\n",
       "    </tr>\n",
       "    <tr>\n",
       "      <th>max</th>\n",
       "      <td>3.031694e+08</td>\n",
       "      <td>2.879121e+06</td>\n",
       "      <td>2.137567e+06</td>\n",
       "      <td>5.479804e+06</td>\n",
       "      <td>18062.000000</td>\n",
       "      <td>14704.714000</td>\n",
       "      <td>341391.525000</td>\n",
       "      <td>51427.491000</td>\n",
       "      <td>7749.176000</td>\n",
       "      <td>6084.669000</td>\n",
       "      <td>...</td>\n",
       "      <td>44.000000</td>\n",
       "      <td>78.100000</td>\n",
       "      <td>100.000000</td>\n",
       "      <td>13.800000</td>\n",
       "      <td>86.750000</td>\n",
       "      <td>0.957000</td>\n",
       "      <td>1.043824e+06</td>\n",
       "      <td>115.000000</td>\n",
       "      <td>374.340000</td>\n",
       "      <td>7912.067517</td>\n",
       "    </tr>\n",
       "  </tbody>\n",
       "</table>\n",
       "<p>8 rows × 62 columns</p>\n",
       "</div>"
      ],
      "text/plain": [
       "        total_cases     new_cases  new_cases_smoothed  total_deaths  \\\n",
       "count  1.502940e+05  1.502390e+05        1.490880e+05  1.330640e+05   \n",
       "mean   2.135135e+06  8.467375e+03        8.309280e+03  5.277387e+04   \n",
       "std    1.265274e+07  5.098362e+04        4.706157e+04  2.775011e+05   \n",
       "min    1.000000e+00 -7.434700e+04       -6.223000e+03  1.000000e+00   \n",
       "25%    1.574000e+03  1.000000e+00        5.857000e+00  6.800000e+01   \n",
       "50%    2.067100e+04  7.000000e+01        9.171400e+01  6.750000e+02   \n",
       "75%    2.560555e+05  9.230000e+02        9.741430e+02  6.457000e+03   \n",
       "max    3.031694e+08  2.879121e+06        2.137567e+06  5.479804e+06   \n",
       "\n",
       "          new_deaths  new_deaths_smoothed  total_cases_per_million  \\\n",
       "count  133236.000000        133104.000000            149593.000000   \n",
       "mean      170.619067           170.100488             23411.883300   \n",
       "std       831.478667           812.194863             38180.684985   \n",
       "min     -1918.000000          -232.143000                 0.001000   \n",
       "25%         0.000000             0.143000               512.697000   \n",
       "50%         2.000000             2.286000              4015.258000   \n",
       "75%        19.000000            20.286000             30648.408000   \n",
       "max     18062.000000         14704.714000            341391.525000   \n",
       "\n",
       "       new_cases_per_million  new_cases_smoothed_per_million  \\\n",
       "count          149538.000000                   148392.000000   \n",
       "mean              107.040595                      103.589947   \n",
       "std               372.752514                      249.590269   \n",
       "min             -3125.829000                     -272.971000   \n",
       "25%                 0.022000                        1.444000   \n",
       "50%                10.052000                       15.887000   \n",
       "75%                86.622750                       99.157000   \n",
       "max             51427.491000                     7749.176000   \n",
       "\n",
       "       total_deaths_per_million  ...  female_smokers  male_smokers  \\\n",
       "count             132376.000000  ...    97631.000000  96225.000000   \n",
       "mean                 456.920736  ...       10.584645     32.758263   \n",
       "std                  721.942654  ...       10.498802     13.521998   \n",
       "min                    0.000000  ...        0.100000      7.700000   \n",
       "25%                   15.829000  ...        1.900000     21.600000   \n",
       "50%                  105.723000  ...        6.300000     31.400000   \n",
       "75%                  622.097750  ...       19.100000     41.300000   \n",
       "max                 6084.669000  ...       44.000000     78.100000   \n",
       "\n",
       "       handwashing_facilities  hospital_beds_per_thousand  life_expectancy  \\\n",
       "count            63127.000000               113877.000000    142738.000000   \n",
       "mean                50.814634                    3.026685        73.596164   \n",
       "std                 31.813386                    2.452814         7.489772   \n",
       "min                  1.188000                    0.100000        53.280000   \n",
       "25%                 19.351000                    1.300000        69.500000   \n",
       "50%                 49.839000                    2.400000        75.050000   \n",
       "75%                 83.241000                    4.000000        78.930000   \n",
       "max                100.000000                   13.800000        86.750000   \n",
       "\n",
       "       human_development_index  excess_mortality_cumulative_absolute  \\\n",
       "count            125523.000000                          5.234000e+03   \n",
       "mean                  0.725868                          3.479999e+04   \n",
       "std                   0.149988                          9.949991e+04   \n",
       "min                   0.394000                         -3.195940e+04   \n",
       "25%                   0.602000                         -9.752500e+01   \n",
       "50%                   0.743000                          2.580050e+03   \n",
       "75%                   0.845000                          2.147995e+04   \n",
       "max                   0.957000                          1.043824e+06   \n",
       "\n",
       "       excess_mortality_cumulative  excess_mortality  \\\n",
       "count                  5234.000000       5234.000000   \n",
       "mean                      9.011418         16.175762   \n",
       "std                      16.669961         31.091730   \n",
       "min                     -28.450000        -95.920000   \n",
       "25%                      -0.870000         -0.520000   \n",
       "50%                       5.505000          7.205000   \n",
       "75%                      13.887500         22.687500   \n",
       "max                     115.000000        374.340000   \n",
       "\n",
       "       excess_mortality_cumulative_per_million  \n",
       "count                              5234.000000  \n",
       "mean                                857.853331  \n",
       "std                                1283.239325  \n",
       "min                               -1745.051271  \n",
       "25%                                 -37.856745  \n",
       "50%                                 401.789828  \n",
       "75%                                1456.137413  \n",
       "max                                7912.067517  \n",
       "\n",
       "[8 rows x 62 columns]"
      ]
     },
     "execution_count": 8,
     "metadata": {},
     "output_type": "execute_result"
    }
   ],
   "source": [
    "file.describe()"
   ]
  },
  {
   "cell_type": "markdown",
   "id": "ac780d96",
   "metadata": {},
   "source": [
    "### Dataset 2 Overview: COVID-19 Activity"
   ]
  },
  {
   "cell_type": "code",
   "execution_count": 9,
   "id": "0609c514",
   "metadata": {},
   "outputs": [
    {
     "data": {
      "text/plain": [
       "(2570924, 13)"
      ]
     },
     "execution_count": 9,
     "metadata": {},
     "output_type": "execute_result"
    }
   ],
   "source": [
    "file2.shape"
   ]
  },
  {
   "cell_type": "code",
   "execution_count": 10,
   "id": "261145eb",
   "metadata": {},
   "outputs": [
    {
     "data": {
      "text/html": [
       "<div>\n",
       "<style scoped>\n",
       "    .dataframe tbody tr th:only-of-type {\n",
       "        vertical-align: middle;\n",
       "    }\n",
       "\n",
       "    .dataframe tbody tr th {\n",
       "        vertical-align: top;\n",
       "    }\n",
       "\n",
       "    .dataframe thead th {\n",
       "        text-align: right;\n",
       "    }\n",
       "</style>\n",
       "<table border=\"1\" class=\"dataframe\">\n",
       "  <thead>\n",
       "    <tr style=\"text-align: right;\">\n",
       "      <th></th>\n",
       "      <th>PEOPLE_POSITIVE_CASES_COUNT</th>\n",
       "      <th>COUNTY_NAME</th>\n",
       "      <th>PROVINCE_STATE_NAME</th>\n",
       "      <th>REPORT_DATE</th>\n",
       "      <th>CONTINENT_NAME</th>\n",
       "      <th>DATA_SOURCE_NAME</th>\n",
       "      <th>PEOPLE_DEATH_NEW_COUNT</th>\n",
       "      <th>COUNTY_FIPS_NUMBER</th>\n",
       "      <th>COUNTRY_ALPHA_3_CODE</th>\n",
       "      <th>COUNTRY_SHORT_NAME</th>\n",
       "      <th>COUNTRY_ALPHA_2_CODE</th>\n",
       "      <th>PEOPLE_POSITIVE_NEW_CASES_COUNT</th>\n",
       "      <th>PEOPLE_DEATH_COUNT</th>\n",
       "    </tr>\n",
       "  </thead>\n",
       "  <tbody>\n",
       "    <tr>\n",
       "      <th>0</th>\n",
       "      <td>303</td>\n",
       "      <td>Sherburne</td>\n",
       "      <td>Minnesota</td>\n",
       "      <td>2020-07-02</td>\n",
       "      <td>America</td>\n",
       "      <td>New York Times</td>\n",
       "      <td>1</td>\n",
       "      <td>27141.0</td>\n",
       "      <td>USA</td>\n",
       "      <td>United States</td>\n",
       "      <td>US</td>\n",
       "      <td>6</td>\n",
       "      <td>5</td>\n",
       "    </tr>\n",
       "    <tr>\n",
       "      <th>1</th>\n",
       "      <td>307</td>\n",
       "      <td>Sherburne</td>\n",
       "      <td>Minnesota</td>\n",
       "      <td>2020-07-03</td>\n",
       "      <td>America</td>\n",
       "      <td>New York Times</td>\n",
       "      <td>0</td>\n",
       "      <td>27141.0</td>\n",
       "      <td>USA</td>\n",
       "      <td>United States</td>\n",
       "      <td>US</td>\n",
       "      <td>4</td>\n",
       "      <td>5</td>\n",
       "    </tr>\n",
       "    <tr>\n",
       "      <th>2</th>\n",
       "      <td>307</td>\n",
       "      <td>Sherburne</td>\n",
       "      <td>Minnesota</td>\n",
       "      <td>2020-07-04</td>\n",
       "      <td>America</td>\n",
       "      <td>New York Times</td>\n",
       "      <td>0</td>\n",
       "      <td>27141.0</td>\n",
       "      <td>USA</td>\n",
       "      <td>United States</td>\n",
       "      <td>US</td>\n",
       "      <td>0</td>\n",
       "      <td>5</td>\n",
       "    </tr>\n",
       "    <tr>\n",
       "      <th>3</th>\n",
       "      <td>312</td>\n",
       "      <td>Sherburne</td>\n",
       "      <td>Minnesota</td>\n",
       "      <td>2020-07-05</td>\n",
       "      <td>America</td>\n",
       "      <td>New York Times</td>\n",
       "      <td>0</td>\n",
       "      <td>27141.0</td>\n",
       "      <td>USA</td>\n",
       "      <td>United States</td>\n",
       "      <td>US</td>\n",
       "      <td>5</td>\n",
       "      <td>5</td>\n",
       "    </tr>\n",
       "    <tr>\n",
       "      <th>4</th>\n",
       "      <td>317</td>\n",
       "      <td>Sherburne</td>\n",
       "      <td>Minnesota</td>\n",
       "      <td>2020-07-06</td>\n",
       "      <td>America</td>\n",
       "      <td>New York Times</td>\n",
       "      <td>0</td>\n",
       "      <td>27141.0</td>\n",
       "      <td>USA</td>\n",
       "      <td>United States</td>\n",
       "      <td>US</td>\n",
       "      <td>5</td>\n",
       "      <td>5</td>\n",
       "    </tr>\n",
       "  </tbody>\n",
       "</table>\n",
       "</div>"
      ],
      "text/plain": [
       "   PEOPLE_POSITIVE_CASES_COUNT COUNTY_NAME PROVINCE_STATE_NAME REPORT_DATE  \\\n",
       "0                          303   Sherburne           Minnesota  2020-07-02   \n",
       "1                          307   Sherburne           Minnesota  2020-07-03   \n",
       "2                          307   Sherburne           Minnesota  2020-07-04   \n",
       "3                          312   Sherburne           Minnesota  2020-07-05   \n",
       "4                          317   Sherburne           Minnesota  2020-07-06   \n",
       "\n",
       "  CONTINENT_NAME DATA_SOURCE_NAME  PEOPLE_DEATH_NEW_COUNT  COUNTY_FIPS_NUMBER  \\\n",
       "0        America   New York Times                       1             27141.0   \n",
       "1        America   New York Times                       0             27141.0   \n",
       "2        America   New York Times                       0             27141.0   \n",
       "3        America   New York Times                       0             27141.0   \n",
       "4        America   New York Times                       0             27141.0   \n",
       "\n",
       "  COUNTRY_ALPHA_3_CODE COUNTRY_SHORT_NAME COUNTRY_ALPHA_2_CODE  \\\n",
       "0                  USA      United States                   US   \n",
       "1                  USA      United States                   US   \n",
       "2                  USA      United States                   US   \n",
       "3                  USA      United States                   US   \n",
       "4                  USA      United States                   US   \n",
       "\n",
       "   PEOPLE_POSITIVE_NEW_CASES_COUNT  PEOPLE_DEATH_COUNT  \n",
       "0                                6                   5  \n",
       "1                                4                   5  \n",
       "2                                0                   5  \n",
       "3                                5                   5  \n",
       "4                                5                   5  "
      ]
     },
     "execution_count": 10,
     "metadata": {},
     "output_type": "execute_result"
    }
   ],
   "source": [
    "file2.head()"
   ]
  },
  {
   "cell_type": "code",
   "execution_count": 11,
   "id": "861a9c57",
   "metadata": {},
   "outputs": [
    {
     "data": {
      "text/plain": [
       "Index(['PEOPLE_POSITIVE_CASES_COUNT', 'COUNTY_NAME', 'PROVINCE_STATE_NAME',\n",
       "       'REPORT_DATE', 'CONTINENT_NAME', 'DATA_SOURCE_NAME',\n",
       "       'PEOPLE_DEATH_NEW_COUNT', 'COUNTY_FIPS_NUMBER', 'COUNTRY_ALPHA_3_CODE',\n",
       "       'COUNTRY_SHORT_NAME', 'COUNTRY_ALPHA_2_CODE',\n",
       "       'PEOPLE_POSITIVE_NEW_CASES_COUNT', 'PEOPLE_DEATH_COUNT'],\n",
       "      dtype='object')"
      ]
     },
     "execution_count": 11,
     "metadata": {},
     "output_type": "execute_result"
    }
   ],
   "source": [
    "file2.columns"
   ]
  },
  {
   "cell_type": "code",
   "execution_count": 12,
   "id": "a8b0fae5",
   "metadata": {
    "scrolled": true
   },
   "outputs": [
    {
     "name": "stdout",
     "output_type": "stream",
     "text": [
      "<class 'pandas.core.frame.DataFrame'>\n",
      "RangeIndex: 2570924 entries, 0 to 2570923\n",
      "Data columns (total 13 columns):\n",
      " #   Column                           Dtype  \n",
      "---  ------                           -----  \n",
      " 0   PEOPLE_POSITIVE_CASES_COUNT      int64  \n",
      " 1   COUNTY_NAME                      object \n",
      " 2   PROVINCE_STATE_NAME              object \n",
      " 3   REPORT_DATE                      object \n",
      " 4   CONTINENT_NAME                   object \n",
      " 5   DATA_SOURCE_NAME                 object \n",
      " 6   PEOPLE_DEATH_NEW_COUNT           int64  \n",
      " 7   COUNTY_FIPS_NUMBER               float64\n",
      " 8   COUNTRY_ALPHA_3_CODE             object \n",
      " 9   COUNTRY_SHORT_NAME               object \n",
      " 10  COUNTRY_ALPHA_2_CODE             object \n",
      " 11  PEOPLE_POSITIVE_NEW_CASES_COUNT  int64  \n",
      " 12  PEOPLE_DEATH_COUNT               int64  \n",
      "dtypes: float64(1), int64(4), object(8)\n",
      "memory usage: 255.0+ MB\n"
     ]
    }
   ],
   "source": [
    "file2.info()"
   ]
  },
  {
   "cell_type": "code",
   "execution_count": 13,
   "id": "91e379ba",
   "metadata": {
    "scrolled": true
   },
   "outputs": [
    {
     "data": {
      "text/html": [
       "<div>\n",
       "<style scoped>\n",
       "    .dataframe tbody tr th:only-of-type {\n",
       "        vertical-align: middle;\n",
       "    }\n",
       "\n",
       "    .dataframe tbody tr th {\n",
       "        vertical-align: top;\n",
       "    }\n",
       "\n",
       "    .dataframe thead th {\n",
       "        text-align: right;\n",
       "    }\n",
       "</style>\n",
       "<table border=\"1\" class=\"dataframe\">\n",
       "  <thead>\n",
       "    <tr style=\"text-align: right;\">\n",
       "      <th></th>\n",
       "      <th>PEOPLE_POSITIVE_CASES_COUNT</th>\n",
       "      <th>PEOPLE_DEATH_NEW_COUNT</th>\n",
       "      <th>COUNTY_FIPS_NUMBER</th>\n",
       "      <th>PEOPLE_POSITIVE_NEW_CASES_COUNT</th>\n",
       "      <th>PEOPLE_DEATH_COUNT</th>\n",
       "    </tr>\n",
       "  </thead>\n",
       "  <tbody>\n",
       "    <tr>\n",
       "      <th>count</th>\n",
       "      <td>2.570924e+06</td>\n",
       "      <td>2.570924e+06</td>\n",
       "      <td>2.329832e+06</td>\n",
       "      <td>2.570924e+06</td>\n",
       "      <td>2.570924e+06</td>\n",
       "    </tr>\n",
       "    <tr>\n",
       "      <th>mean</th>\n",
       "      <td>3.059569e+04</td>\n",
       "      <td>2.147014e+00</td>\n",
       "      <td>3.147197e+04</td>\n",
       "      <td>1.245063e+02</td>\n",
       "      <td>6.656826e+02</td>\n",
       "    </tr>\n",
       "    <tr>\n",
       "      <th>std</th>\n",
       "      <td>4.643439e+05</td>\n",
       "      <td>3.767672e+01</td>\n",
       "      <td>1.636533e+04</td>\n",
       "      <td>2.355573e+03</td>\n",
       "      <td>9.741924e+03</td>\n",
       "    </tr>\n",
       "    <tr>\n",
       "      <th>min</th>\n",
       "      <td>0.000000e+00</td>\n",
       "      <td>-1.131700e+04</td>\n",
       "      <td>1.001000e+03</td>\n",
       "      <td>-3.491160e+05</td>\n",
       "      <td>0.000000e+00</td>\n",
       "    </tr>\n",
       "    <tr>\n",
       "      <th>25%</th>\n",
       "      <td>9.200000e+01</td>\n",
       "      <td>0.000000e+00</td>\n",
       "      <td>1.903500e+04</td>\n",
       "      <td>0.000000e+00</td>\n",
       "      <td>1.000000e+00</td>\n",
       "    </tr>\n",
       "    <tr>\n",
       "      <th>50%</th>\n",
       "      <td>1.047000e+03</td>\n",
       "      <td>0.000000e+00</td>\n",
       "      <td>3.002600e+04</td>\n",
       "      <td>1.000000e+00</td>\n",
       "      <td>1.800000e+01</td>\n",
       "    </tr>\n",
       "    <tr>\n",
       "      <th>75%</th>\n",
       "      <td>4.265000e+03</td>\n",
       "      <td>0.000000e+00</td>\n",
       "      <td>4.611900e+04</td>\n",
       "      <td>1.200000e+01</td>\n",
       "      <td>7.700000e+01</td>\n",
       "    </tr>\n",
       "    <tr>\n",
       "      <th>max</th>\n",
       "      <td>3.631793e+07</td>\n",
       "      <td>8.786000e+03</td>\n",
       "      <td>7.803000e+04</td>\n",
       "      <td>8.232250e+05</td>\n",
       "      <td>6.208300e+05</td>\n",
       "    </tr>\n",
       "  </tbody>\n",
       "</table>\n",
       "</div>"
      ],
      "text/plain": [
       "       PEOPLE_POSITIVE_CASES_COUNT  PEOPLE_DEATH_NEW_COUNT  \\\n",
       "count                 2.570924e+06            2.570924e+06   \n",
       "mean                  3.059569e+04            2.147014e+00   \n",
       "std                   4.643439e+05            3.767672e+01   \n",
       "min                   0.000000e+00           -1.131700e+04   \n",
       "25%                   9.200000e+01            0.000000e+00   \n",
       "50%                   1.047000e+03            0.000000e+00   \n",
       "75%                   4.265000e+03            0.000000e+00   \n",
       "max                   3.631793e+07            8.786000e+03   \n",
       "\n",
       "       COUNTY_FIPS_NUMBER  PEOPLE_POSITIVE_NEW_CASES_COUNT  PEOPLE_DEATH_COUNT  \n",
       "count        2.329832e+06                     2.570924e+06        2.570924e+06  \n",
       "mean         3.147197e+04                     1.245063e+02        6.656826e+02  \n",
       "std          1.636533e+04                     2.355573e+03        9.741924e+03  \n",
       "min          1.001000e+03                    -3.491160e+05        0.000000e+00  \n",
       "25%          1.903500e+04                     0.000000e+00        1.000000e+00  \n",
       "50%          3.002600e+04                     1.000000e+00        1.800000e+01  \n",
       "75%          4.611900e+04                     1.200000e+01        7.700000e+01  \n",
       "max          7.803000e+04                     8.232250e+05        6.208300e+05  "
      ]
     },
     "execution_count": 13,
     "metadata": {},
     "output_type": "execute_result"
    }
   ],
   "source": [
    "file2.describe()"
   ]
  },
  {
   "cell_type": "markdown",
   "id": "0ce4f641",
   "metadata": {},
   "source": [
    "### Data Analysis, Visual Representation and Statistical Research"
   ]
  },
  {
   "cell_type": "markdown",
   "id": "14c8f35a",
   "metadata": {},
   "source": [
    "__Hypothesis:__ Contracting the Covid-19 Virus can be fatal."
   ]
  },
  {
   "cell_type": "code",
   "execution_count": 14,
   "id": "f9571505",
   "metadata": {},
   "outputs": [
    {
     "name": "stdout",
     "output_type": "stream",
     "text": [
      "Total Deaths in Dataset 1: 133064\n"
     ]
    }
   ],
   "source": [
    "total_deaths = file['total_deaths'].count()\n",
    "print(f'Total Deaths in Dataset 1: {total_deaths}')"
   ]
  },
  {
   "cell_type": "code",
   "execution_count": 15,
   "id": "1a57f444",
   "metadata": {},
   "outputs": [
    {
     "name": "stdout",
     "output_type": "stream",
     "text": [
      "Total Positive Cases in Dataset 1: 150294\n"
     ]
    }
   ],
   "source": [
    "total_cases = file['total_cases'].count()\n",
    "print(f'Total Positive Cases in Dataset 1: {total_cases}')"
   ]
  },
  {
   "cell_type": "code",
   "execution_count": 16,
   "id": "4703aaf2",
   "metadata": {},
   "outputs": [
    {
     "name": "stdout",
     "output_type": "stream",
     "text": [
      "Total Deaths in Dataset 2: 2570924\n"
     ]
    }
   ],
   "source": [
    "total_deaths2 = file2['PEOPLE_DEATH_COUNT'].count()\n",
    "print(f'Total Deaths in Dataset 2: {total_deaths2}')"
   ]
  },
  {
   "cell_type": "code",
   "execution_count": 17,
   "id": "e7ca37b4",
   "metadata": {},
   "outputs": [
    {
     "name": "stdout",
     "output_type": "stream",
     "text": [
      "Total Positive Cases in Dataset 2: 2570924\n"
     ]
    }
   ],
   "source": [
    "total_cases2 = file2['PEOPLE_POSITIVE_CASES_COUNT'].count()\n",
    "print(f'Total Positive Cases in Dataset 2: {total_cases2}')"
   ]
  },
  {
   "cell_type": "markdown",
   "id": "4d25fadd",
   "metadata": {},
   "source": [
    "__Answer:__ Statistical research of both datasets show that there is correlation between the Covid-19 virus and mortality rates."
   ]
  },
  {
   "cell_type": "code",
   "execution_count": 18,
   "id": "24093f9a",
   "metadata": {},
   "outputs": [
    {
     "data": {
      "text/html": [
       "<div>\n",
       "<style scoped>\n",
       "    .dataframe tbody tr th:only-of-type {\n",
       "        vertical-align: middle;\n",
       "    }\n",
       "\n",
       "    .dataframe tbody tr th {\n",
       "        vertical-align: top;\n",
       "    }\n",
       "\n",
       "    .dataframe thead th {\n",
       "        text-align: right;\n",
       "    }\n",
       "</style>\n",
       "<table border=\"1\" class=\"dataframe\">\n",
       "  <thead>\n",
       "    <tr style=\"text-align: right;\">\n",
       "      <th></th>\n",
       "      <th>total_cases</th>\n",
       "      <th>total_deaths</th>\n",
       "    </tr>\n",
       "  </thead>\n",
       "  <tbody>\n",
       "    <tr>\n",
       "      <th>total_cases</th>\n",
       "      <td>1.000000</td>\n",
       "      <td>0.984466</td>\n",
       "    </tr>\n",
       "    <tr>\n",
       "      <th>total_deaths</th>\n",
       "      <td>0.984466</td>\n",
       "      <td>1.000000</td>\n",
       "    </tr>\n",
       "  </tbody>\n",
       "</table>\n",
       "</div>"
      ],
      "text/plain": [
       "              total_cases  total_deaths\n",
       "total_cases      1.000000      0.984466\n",
       "total_deaths     0.984466      1.000000"
      ]
     },
     "execution_count": 18,
     "metadata": {},
     "output_type": "execute_result"
    }
   ],
   "source": [
    "file[['total_cases', 'total_deaths']].corr()"
   ]
  },
  {
   "cell_type": "code",
   "execution_count": 19,
   "id": "f4f0f3b9",
   "metadata": {},
   "outputs": [
    {
     "data": {
      "text/html": [
       "<div>\n",
       "<style scoped>\n",
       "    .dataframe tbody tr th:only-of-type {\n",
       "        vertical-align: middle;\n",
       "    }\n",
       "\n",
       "    .dataframe tbody tr th {\n",
       "        vertical-align: top;\n",
       "    }\n",
       "\n",
       "    .dataframe thead th {\n",
       "        text-align: right;\n",
       "    }\n",
       "</style>\n",
       "<table border=\"1\" class=\"dataframe\">\n",
       "  <thead>\n",
       "    <tr style=\"text-align: right;\">\n",
       "      <th></th>\n",
       "      <th>PEOPLE_DEATH_COUNT</th>\n",
       "      <th>PEOPLE_POSITIVE_CASES_COUNT</th>\n",
       "    </tr>\n",
       "  </thead>\n",
       "  <tbody>\n",
       "    <tr>\n",
       "      <th>PEOPLE_DEATH_COUNT</th>\n",
       "      <td>1.000000</td>\n",
       "      <td>0.893967</td>\n",
       "    </tr>\n",
       "    <tr>\n",
       "      <th>PEOPLE_POSITIVE_CASES_COUNT</th>\n",
       "      <td>0.893967</td>\n",
       "      <td>1.000000</td>\n",
       "    </tr>\n",
       "  </tbody>\n",
       "</table>\n",
       "</div>"
      ],
      "text/plain": [
       "                             PEOPLE_DEATH_COUNT  PEOPLE_POSITIVE_CASES_COUNT\n",
       "PEOPLE_DEATH_COUNT                     1.000000                     0.893967\n",
       "PEOPLE_POSITIVE_CASES_COUNT            0.893967                     1.000000"
      ]
     },
     "execution_count": 19,
     "metadata": {},
     "output_type": "execute_result"
    }
   ],
   "source": [
    "file2[['PEOPLE_DEATH_COUNT', 'PEOPLE_POSITIVE_CASES_COUNT']].corr()"
   ]
  },
  {
   "cell_type": "markdown",
   "id": "1b497203",
   "metadata": {},
   "source": [
    "__Hypothesis:__ The presence of smoking is related to increased fatal mortalities."
   ]
  },
  {
   "cell_type": "code",
   "execution_count": 20,
   "id": "5d1aab44",
   "metadata": {},
   "outputs": [
    {
     "data": {
      "text/html": [
       "<div>\n",
       "<style scoped>\n",
       "    .dataframe tbody tr th:only-of-type {\n",
       "        vertical-align: middle;\n",
       "    }\n",
       "\n",
       "    .dataframe tbody tr th {\n",
       "        vertical-align: top;\n",
       "    }\n",
       "\n",
       "    .dataframe thead th {\n",
       "        text-align: right;\n",
       "    }\n",
       "</style>\n",
       "<table border=\"1\" class=\"dataframe\">\n",
       "  <thead>\n",
       "    <tr style=\"text-align: right;\">\n",
       "      <th></th>\n",
       "      <th>male_smokers</th>\n",
       "      <th>female_smokers</th>\n",
       "      <th>total_deaths</th>\n",
       "    </tr>\n",
       "  </thead>\n",
       "  <tbody>\n",
       "    <tr>\n",
       "      <th>male_smokers</th>\n",
       "      <td>1.000000</td>\n",
       "      <td>0.206306</td>\n",
       "      <td>-0.004893</td>\n",
       "    </tr>\n",
       "    <tr>\n",
       "      <th>female_smokers</th>\n",
       "      <td>0.206306</td>\n",
       "      <td>1.000000</td>\n",
       "      <td>-0.007291</td>\n",
       "    </tr>\n",
       "    <tr>\n",
       "      <th>total_deaths</th>\n",
       "      <td>-0.004893</td>\n",
       "      <td>-0.007291</td>\n",
       "      <td>1.000000</td>\n",
       "    </tr>\n",
       "  </tbody>\n",
       "</table>\n",
       "</div>"
      ],
      "text/plain": [
       "                male_smokers  female_smokers  total_deaths\n",
       "male_smokers        1.000000        0.206306     -0.004893\n",
       "female_smokers      0.206306        1.000000     -0.007291\n",
       "total_deaths       -0.004893       -0.007291      1.000000"
      ]
     },
     "execution_count": 20,
     "metadata": {},
     "output_type": "execute_result"
    }
   ],
   "source": [
    "file[['male_smokers', 'female_smokers', 'total_deaths']].corr()"
   ]
  },
  {
   "cell_type": "code",
   "execution_count": 21,
   "id": "1c5f88f6",
   "metadata": {
    "scrolled": true
   },
   "outputs": [
    {
     "name": "stdout",
     "output_type": "stream",
     "text": [
      "Male Smokers : 96225\n"
     ]
    }
   ],
   "source": [
    "male_smokers = file['male_smokers'].count()\n",
    "print(f'Male Smokers : {male_smokers}')"
   ]
  },
  {
   "cell_type": "code",
   "execution_count": 22,
   "id": "57030b79",
   "metadata": {},
   "outputs": [
    {
     "name": "stdout",
     "output_type": "stream",
     "text": [
      "Female Smokers: 97631\n"
     ]
    }
   ],
   "source": [
    "female_smokers = file['female_smokers'].count()\n",
    "print(f'Female Smokers: {female_smokers}')"
   ]
  },
  {
   "cell_type": "markdown",
   "id": "04377472",
   "metadata": {},
   "source": [
    "__Answer:__ Data analysis does not support original hypothesis. There is no correlation between smokers and increased mortality rates due to Covid-19."
   ]
  },
  {
   "cell_type": "code",
   "execution_count": 75,
   "id": "6e63afbb",
   "metadata": {
    "scrolled": true
   },
   "outputs": [
    {
     "data": {
      "text/plain": [
       "<AxesSubplot:>"
      ]
     },
     "execution_count": 75,
     "metadata": {},
     "output_type": "execute_result"
    },
    {
     "data": {
      "image/png": "[encoded data removed]",
      "text/plain": [
       "<Figure size 432x288 with 2 Axes>"
      ]
     },
     "metadata": {
      "needs_background": "light"
     },
     "output_type": "display_data"
    }
   ],
   "source": [
    "sns.heatmap(file[['male_smokers', 'female_smokers', 'total_deaths']].corr(), cmap=\"Greens\", annot=True)"
   ]
  },
  {
   "cell_type": "markdown",
   "id": "b66db674",
   "metadata": {},
   "source": [
    "__Hypothesis:__ ICU and hospitilization directly coorelates with individuals that test positive for the Covid-19 Virus."
   ]
  },
  {
   "cell_type": "code",
   "execution_count": 72,
   "id": "08b781d3",
   "metadata": {},
   "outputs": [
    {
     "data": {
      "text/html": [
       "<div>\n",
       "<style scoped>\n",
       "    .dataframe tbody tr th:only-of-type {\n",
       "        vertical-align: middle;\n",
       "    }\n",
       "\n",
       "    .dataframe tbody tr th {\n",
       "        vertical-align: top;\n",
       "    }\n",
       "\n",
       "    .dataframe thead th {\n",
       "        text-align: right;\n",
       "    }\n",
       "</style>\n",
       "<table border=\"1\" class=\"dataframe\">\n",
       "  <thead>\n",
       "    <tr style=\"text-align: right;\">\n",
       "      <th></th>\n",
       "      <th>total_cases</th>\n",
       "      <th>positive_rate</th>\n",
       "      <th>icu_patients</th>\n",
       "      <th>hosp_patients</th>\n",
       "    </tr>\n",
       "  </thead>\n",
       "  <tbody>\n",
       "    <tr>\n",
       "      <th>total_cases</th>\n",
       "      <td>1.000000</td>\n",
       "      <td>-0.016405</td>\n",
       "      <td>0.760832</td>\n",
       "      <td>0.711487</td>\n",
       "    </tr>\n",
       "    <tr>\n",
       "      <th>positive_rate</th>\n",
       "      <td>-0.016405</td>\n",
       "      <td>1.000000</td>\n",
       "      <td>0.155454</td>\n",
       "      <td>0.189667</td>\n",
       "    </tr>\n",
       "    <tr>\n",
       "      <th>icu_patients</th>\n",
       "      <td>0.760832</td>\n",
       "      <td>0.155454</td>\n",
       "      <td>1.000000</td>\n",
       "      <td>0.964496</td>\n",
       "    </tr>\n",
       "    <tr>\n",
       "      <th>hosp_patients</th>\n",
       "      <td>0.711487</td>\n",
       "      <td>0.189667</td>\n",
       "      <td>0.964496</td>\n",
       "      <td>1.000000</td>\n",
       "    </tr>\n",
       "  </tbody>\n",
       "</table>\n",
       "</div>"
      ],
      "text/plain": [
       "               total_cases  positive_rate  icu_patients  hosp_patients\n",
       "total_cases       1.000000      -0.016405      0.760832       0.711487\n",
       "positive_rate    -0.016405       1.000000      0.155454       0.189667\n",
       "icu_patients      0.760832       0.155454      1.000000       0.964496\n",
       "hosp_patients     0.711487       0.189667      0.964496       1.000000"
      ]
     },
     "execution_count": 72,
     "metadata": {},
     "output_type": "execute_result"
    }
   ],
   "source": [
    "file[['total_cases', 'positive_rate', 'icu_patients', 'hosp_patients']].corr()"
   ]
  },
  {
   "cell_type": "code",
   "execution_count": 68,
   "id": "9c73bafd",
   "metadata": {},
   "outputs": [
    {
     "name": "stdout",
     "output_type": "stream",
     "text": [
      "Total Cases: 150294\n"
     ]
    }
   ],
   "source": [
    "total_cases = file['total_cases'].count()\n",
    "print(f'Total Cases: {total_cases}')"
   ]
  },
  {
   "cell_type": "code",
   "execution_count": 73,
   "id": "30153018",
   "metadata": {},
   "outputs": [
    {
     "name": "stdout",
     "output_type": "stream",
     "text": [
      "Positive Rate: 69318\n"
     ]
    }
   ],
   "source": [
    "positive_rate = file['positive_rate'].count()\n",
    "print(f'Positive Rate: {positive_rate}')"
   ]
  },
  {
   "cell_type": "code",
   "execution_count": 63,
   "id": "d321c0a3",
   "metadata": {
    "scrolled": true
   },
   "outputs": [
    {
     "name": "stdout",
     "output_type": "stream",
     "text": [
      "ICU Patients: 19314\n"
     ]
    }
   ],
   "source": [
    "icu_patients = file['icu_patients'].count()\n",
    "print(f'ICU Patients: {icu_patients}')"
   ]
  },
  {
   "cell_type": "code",
   "execution_count": 64,
   "id": "0ac1f875",
   "metadata": {},
   "outputs": [
    {
     "name": "stdout",
     "output_type": "stream",
     "text": [
      "Hospital Patients: 21292\n"
     ]
    }
   ],
   "source": [
    "hosp_patients = file['hosp_patients'].count()\n",
    "print(f'Hospital Patients: {hosp_patients}')"
   ]
  },
  {
   "cell_type": "markdown",
   "id": "785772ba",
   "metadata": {},
   "source": [
    "__Answer:__ Data analysis supports the original hypothesis. There is a correlation between testing postive for Covid-19 and increased hospitalizations."
   ]
  },
  {
   "cell_type": "code",
   "execution_count": 74,
   "id": "c38dceba",
   "metadata": {},
   "outputs": [
    {
     "data": {
      "text/plain": [
       "<AxesSubplot:>"
      ]
     },
     "execution_count": 74,
     "metadata": {},
     "output_type": "execute_result"
    },
    {
     "data": {
      "image/png": "[encoded data removed]",
      "text/plain": [
       "<Figure size 432x288 with 2 Axes>"
      ]
     },
     "metadata": {
      "needs_background": "light"
     },
     "output_type": "display_data"
    }
   ],
   "source": [
    "sns.heatmap(file[['total_cases', 'positive_rate', 'icu_patients', 'hosp_patients']].corr(), cmap=\"Blues\", annot=True)"
   ]
  },
  {
   "cell_type": "markdown",
   "id": "449eac11",
   "metadata": {},
   "source": [
    "__Hypothesis:__ Age directly coorelates with increased mortality rates amongst individuals that contract the Covid-19."
   ]
  },
  {
   "cell_type": "code",
   "execution_count": 42,
   "id": "700b4417",
   "metadata": {},
   "outputs": [
    {
     "data": {
      "text/html": [
       "<div>\n",
       "<style scoped>\n",
       "    .dataframe tbody tr th:only-of-type {\n",
       "        vertical-align: middle;\n",
       "    }\n",
       "\n",
       "    .dataframe tbody tr th {\n",
       "        vertical-align: top;\n",
       "    }\n",
       "\n",
       "    .dataframe thead th {\n",
       "        text-align: right;\n",
       "    }\n",
       "</style>\n",
       "<table border=\"1\" class=\"dataframe\">\n",
       "  <thead>\n",
       "    <tr style=\"text-align: right;\">\n",
       "      <th></th>\n",
       "      <th>aged_65_older</th>\n",
       "      <th>aged_70_older</th>\n",
       "      <th>total_deaths</th>\n",
       "    </tr>\n",
       "  </thead>\n",
       "  <tbody>\n",
       "    <tr>\n",
       "      <th>aged_65_older</th>\n",
       "      <td>1.000000</td>\n",
       "      <td>0.994370</td>\n",
       "      <td>0.026061</td>\n",
       "    </tr>\n",
       "    <tr>\n",
       "      <th>aged_70_older</th>\n",
       "      <td>0.994370</td>\n",
       "      <td>1.000000</td>\n",
       "      <td>0.023622</td>\n",
       "    </tr>\n",
       "    <tr>\n",
       "      <th>total_deaths</th>\n",
       "      <td>0.026061</td>\n",
       "      <td>0.023622</td>\n",
       "      <td>1.000000</td>\n",
       "    </tr>\n",
       "  </tbody>\n",
       "</table>\n",
       "</div>"
      ],
      "text/plain": [
       "               aged_65_older  aged_70_older  total_deaths\n",
       "aged_65_older       1.000000       0.994370      0.026061\n",
       "aged_70_older       0.994370       1.000000      0.023622\n",
       "total_deaths        0.026061       0.023622      1.000000"
      ]
     },
     "execution_count": 42,
     "metadata": {},
     "output_type": "execute_result"
    }
   ],
   "source": [
    "file[['aged_65_older', 'aged_70_older', 'total_deaths']].corr()"
   ]
  },
  {
   "cell_type": "code",
   "execution_count": 25,
   "id": "dc7879ca",
   "metadata": {},
   "outputs": [
    {
     "name": "stdout",
     "output_type": "stream",
     "text": [
      "Aged 65 & Older : 125664\n"
     ]
    }
   ],
   "source": [
    "aged_65_older = file['aged_65_older'].count()\n",
    "print(f'Aged 65 & Older : {aged_65_older}')"
   ]
  },
  {
   "cell_type": "code",
   "execution_count": 26,
   "id": "d2d35410",
   "metadata": {},
   "outputs": [
    {
     "name": "stdout",
     "output_type": "stream",
     "text": [
      "Aged 70 & Older : 126362\n"
     ]
    }
   ],
   "source": [
    "aged_70_older = file['aged_70_older'].count()\n",
    "print(f'Aged 70 & Older : {aged_70_older}')"
   ]
  },
  {
   "cell_type": "markdown",
   "id": "d6e265ff",
   "metadata": {},
   "source": [
    "__Answer:__ Data analysis supports the original hypothesis, that age directly coorelates with an increase in Covid-19 death rates."
   ]
  },
  {
   "cell_type": "code",
   "execution_count": 84,
   "id": "d710e5d2",
   "metadata": {
    "scrolled": true
   },
   "outputs": [
    {
     "data": {
      "text/plain": [
       "<AxesSubplot:>"
      ]
     },
     "execution_count": 84,
     "metadata": {},
     "output_type": "execute_result"
    },
    {
     "data": {
      "image/png": "[encoded data removed]",
      "text/plain": [
       "<Figure size 432x288 with 2 Axes>"
      ]
     },
     "metadata": {
      "needs_background": "light"
     },
     "output_type": "display_data"
    }
   ],
   "source": [
    "sns.heatmap(file[['aged_65_older', 'aged_70_older', 'total_deaths']].corr(), cmap=\"Purples\", annot=True)"
   ]
  },
  {
   "cell_type": "markdown",
   "id": "765aa699",
   "metadata": {},
   "source": [
    "__Hypothesis:__ Being fully vaccinated decreases fatal mortality rates. "
   ]
  },
  {
   "cell_type": "code",
   "execution_count": 28,
   "id": "4f977946",
   "metadata": {},
   "outputs": [
    {
     "data": {
      "text/html": [
       "<div>\n",
       "<style scoped>\n",
       "    .dataframe tbody tr th:only-of-type {\n",
       "        vertical-align: middle;\n",
       "    }\n",
       "\n",
       "    .dataframe tbody tr th {\n",
       "        vertical-align: top;\n",
       "    }\n",
       "\n",
       "    .dataframe thead th {\n",
       "        text-align: right;\n",
       "    }\n",
       "</style>\n",
       "<table border=\"1\" class=\"dataframe\">\n",
       "  <thead>\n",
       "    <tr style=\"text-align: right;\">\n",
       "      <th></th>\n",
       "      <th>people_fully_vaccinated</th>\n",
       "      <th>total_deaths</th>\n",
       "    </tr>\n",
       "  </thead>\n",
       "  <tbody>\n",
       "    <tr>\n",
       "      <th>people_fully_vaccinated</th>\n",
       "      <td>1.000000</td>\n",
       "      <td>0.772387</td>\n",
       "    </tr>\n",
       "    <tr>\n",
       "      <th>total_deaths</th>\n",
       "      <td>0.772387</td>\n",
       "      <td>1.000000</td>\n",
       "    </tr>\n",
       "  </tbody>\n",
       "</table>\n",
       "</div>"
      ],
      "text/plain": [
       "                         people_fully_vaccinated  total_deaths\n",
       "people_fully_vaccinated                 1.000000      0.772387\n",
       "total_deaths                            0.772387      1.000000"
      ]
     },
     "execution_count": 28,
     "metadata": {},
     "output_type": "execute_result"
    }
   ],
   "source": [
    "file[['people_fully_vaccinated', 'total_deaths']].corr()"
   ]
  },
  {
   "cell_type": "code",
   "execution_count": 29,
   "id": "08bbd1ba",
   "metadata": {},
   "outputs": [
    {
     "name": "stdout",
     "output_type": "stream",
     "text": [
      "People Fully Vaccinated : 34818\n"
     ]
    }
   ],
   "source": [
    "people_fully_vaccinated = file['people_fully_vaccinated'].count()\n",
    "print(f'People Fully Vaccinated : {people_fully_vaccinated}')"
   ]
  },
  {
   "cell_type": "markdown",
   "id": "5de5ea67",
   "metadata": {},
   "source": [
    "__Answer:__ Data analysis supports the original hypothesis, that being fully vaccinated against Covid-19 decreases mortality rates."
   ]
  },
  {
   "cell_type": "code",
   "execution_count": 85,
   "id": "bfb3eb99",
   "metadata": {
    "scrolled": false
   },
   "outputs": [
    {
     "data": {
      "text/plain": [
       "<AxesSubplot:>"
      ]
     },
     "execution_count": 85,
     "metadata": {},
     "output_type": "execute_result"
    },
    {
     "data": {
      "image/png": "[encoded data removed]",
      "text/plain": [
       "<Figure size 432x288 with 2 Axes>"
      ]
     },
     "metadata": {
      "needs_background": "light"
     },
     "output_type": "display_data"
    }
   ],
   "source": [
    "sns.heatmap(file[['people_fully_vaccinated', 'total_deaths']].corr(), cmap=\"Greens\", annot=True)"
   ]
  },
  {
   "cell_type": "markdown",
   "id": "d1bbf328",
   "metadata": {},
   "source": [
    "__Hypothesis:__ Being in extrememe poverty decreases survival rates."
   ]
  },
  {
   "cell_type": "code",
   "execution_count": 48,
   "id": "0f9bb1a8",
   "metadata": {},
   "outputs": [
    {
     "data": {
      "text/html": [
       "<div>\n",
       "<style scoped>\n",
       "    .dataframe tbody tr th:only-of-type {\n",
       "        vertical-align: middle;\n",
       "    }\n",
       "\n",
       "    .dataframe tbody tr th {\n",
       "        vertical-align: top;\n",
       "    }\n",
       "\n",
       "    .dataframe thead th {\n",
       "        text-align: right;\n",
       "    }\n",
       "</style>\n",
       "<table border=\"1\" class=\"dataframe\">\n",
       "  <thead>\n",
       "    <tr style=\"text-align: right;\">\n",
       "      <th></th>\n",
       "      <th>extreme_poverty</th>\n",
       "      <th>total_deaths</th>\n",
       "    </tr>\n",
       "  </thead>\n",
       "  <tbody>\n",
       "    <tr>\n",
       "      <th>extreme_poverty</th>\n",
       "      <td>1.000000</td>\n",
       "      <td>-0.041865</td>\n",
       "    </tr>\n",
       "    <tr>\n",
       "      <th>total_deaths</th>\n",
       "      <td>-0.041865</td>\n",
       "      <td>1.000000</td>\n",
       "    </tr>\n",
       "  </tbody>\n",
       "</table>\n",
       "</div>"
      ],
      "text/plain": [
       "                 extreme_poverty  total_deaths\n",
       "extreme_poverty         1.000000     -0.041865\n",
       "total_deaths           -0.041865      1.000000"
      ]
     },
     "execution_count": 48,
     "metadata": {},
     "output_type": "execute_result"
    }
   ],
   "source": [
    "file[['extreme_poverty', 'total_deaths']].corr()"
   ]
  },
  {
   "cell_type": "code",
   "execution_count": 49,
   "id": "b374cdf9",
   "metadata": {},
   "outputs": [
    {
     "name": "stdout",
     "output_type": "stream",
     "text": [
      "People Experincing Extreme Poverty : 84133\n"
     ]
    }
   ],
   "source": [
    "extreme_poverty = file['extreme_poverty'].count()\n",
    "print(f'People Experincing Extreme Poverty : {extreme_poverty}')"
   ]
  },
  {
   "cell_type": "code",
   "execution_count": 86,
   "id": "9ac620ae",
   "metadata": {},
   "outputs": [
    {
     "data": {
      "text/plain": [
       "<AxesSubplot:>"
      ]
     },
     "execution_count": 86,
     "metadata": {},
     "output_type": "execute_result"
    },
    {
     "data": {
      "image/png": "[encoded data removed]",
      "text/plain": [
       "<Figure size 432x288 with 2 Axes>"
      ]
     },
     "metadata": {
      "needs_background": "light"
     },
     "output_type": "display_data"
    }
   ],
   "source": [
    "sns.heatmap(file[['extreme_poverty', 'total_deaths']].corr(), cmap=\"Purples\", annot=True)"
   ]
  },
  {
   "cell_type": "markdown",
   "id": "35454933",
   "metadata": {},
   "source": [
    "__Answer:__ Data analysis does not support original hypothesis. There is no correlation between poverty levels and increased mortality rates due to Covid-19."
   ]
  },
  {
   "cell_type": "code",
   "execution_count": null,
   "id": "1da8790f",
   "metadata": {},
   "outputs": [],
   "source": []
  }
 ],
 "metadata": {
  "kernelspec": {
   "display_name": "Python 3 (ipykernel)",
   "language": "python",
   "name": "python3"
  },
  "language_info": {
   "codemirror_mode": {
    "name": "ipython",
    "version": 3
   },
   "file_extension": ".py",
   "mimetype": "text/x-python",
   "name": "python",
   "nbconvert_exporter": "python",
   "pygments_lexer": "ipython3",
   "version": "3.9.7"
  }
 },
 "nbformat": 4,
 "nbformat_minor": 5
}
